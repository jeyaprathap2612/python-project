{
 "cells": [
  {
   "cell_type": "code",
   "execution_count": 2,
   "id": "69077ad5",
   "metadata": {},
   "outputs": [],
   "source": [
    "import numpy as np\n",
    "import pandas as pd"
   ]
  },
  {
   "cell_type": "code",
   "execution_count": 4,
   "id": "229efc68",
   "metadata": {
    "scrolled": true
   },
   "outputs": [
    {
     "data": {
      "text/html": [
       "<div>\n",
       "<style scoped>\n",
       "    .dataframe tbody tr th:only-of-type {\n",
       "        vertical-align: middle;\n",
       "    }\n",
       "\n",
       "    .dataframe tbody tr th {\n",
       "        vertical-align: top;\n",
       "    }\n",
       "\n",
       "    .dataframe thead th {\n",
       "        text-align: right;\n",
       "    }\n",
       "</style>\n",
       "<table border=\"1\" class=\"dataframe\">\n",
       "  <thead>\n",
       "    <tr style=\"text-align: right;\">\n",
       "      <th></th>\n",
       "      <th>City</th>\n",
       "      <th>Edition</th>\n",
       "      <th>Sport</th>\n",
       "      <th>Discipline</th>\n",
       "      <th>Athlete</th>\n",
       "      <th>NOC</th>\n",
       "      <th>Gender</th>\n",
       "      <th>Event</th>\n",
       "      <th>Event_gender</th>\n",
       "      <th>Medal</th>\n",
       "    </tr>\n",
       "  </thead>\n",
       "  <tbody>\n",
       "    <tr>\n",
       "      <th>0</th>\n",
       "      <td>Athens</td>\n",
       "      <td>1896</td>\n",
       "      <td>Aquatics</td>\n",
       "      <td>Swimming</td>\n",
       "      <td>HAJOS, Alfred</td>\n",
       "      <td>HUN</td>\n",
       "      <td>Men</td>\n",
       "      <td>100m freestyle</td>\n",
       "      <td>M</td>\n",
       "      <td>Gold</td>\n",
       "    </tr>\n",
       "    <tr>\n",
       "      <th>1</th>\n",
       "      <td>Athens</td>\n",
       "      <td>1896</td>\n",
       "      <td>Aquatics</td>\n",
       "      <td>Swimming</td>\n",
       "      <td>HERSCHMANN, Otto</td>\n",
       "      <td>AUT</td>\n",
       "      <td>Men</td>\n",
       "      <td>100m freestyle</td>\n",
       "      <td>M</td>\n",
       "      <td>Silver</td>\n",
       "    </tr>\n",
       "    <tr>\n",
       "      <th>2</th>\n",
       "      <td>Athens</td>\n",
       "      <td>1896</td>\n",
       "      <td>Aquatics</td>\n",
       "      <td>Swimming</td>\n",
       "      <td>DRIVAS, Dimitrios</td>\n",
       "      <td>GRE</td>\n",
       "      <td>Men</td>\n",
       "      <td>100m freestyle for sailors</td>\n",
       "      <td>M</td>\n",
       "      <td>Bronze</td>\n",
       "    </tr>\n",
       "    <tr>\n",
       "      <th>3</th>\n",
       "      <td>Athens</td>\n",
       "      <td>1896</td>\n",
       "      <td>Aquatics</td>\n",
       "      <td>Swimming</td>\n",
       "      <td>MALOKINIS, Ioannis</td>\n",
       "      <td>GRE</td>\n",
       "      <td>Men</td>\n",
       "      <td>100m freestyle for sailors</td>\n",
       "      <td>M</td>\n",
       "      <td>Gold</td>\n",
       "    </tr>\n",
       "    <tr>\n",
       "      <th>4</th>\n",
       "      <td>Athens</td>\n",
       "      <td>1896</td>\n",
       "      <td>Aquatics</td>\n",
       "      <td>Swimming</td>\n",
       "      <td>CHASAPIS, Spiridon</td>\n",
       "      <td>GRE</td>\n",
       "      <td>Men</td>\n",
       "      <td>100m freestyle for sailors</td>\n",
       "      <td>M</td>\n",
       "      <td>Silver</td>\n",
       "    </tr>\n",
       "    <tr>\n",
       "      <th>...</th>\n",
       "      <td>...</td>\n",
       "      <td>...</td>\n",
       "      <td>...</td>\n",
       "      <td>...</td>\n",
       "      <td>...</td>\n",
       "      <td>...</td>\n",
       "      <td>...</td>\n",
       "      <td>...</td>\n",
       "      <td>...</td>\n",
       "      <td>...</td>\n",
       "    </tr>\n",
       "    <tr>\n",
       "      <th>29211</th>\n",
       "      <td>Beijing</td>\n",
       "      <td>2008</td>\n",
       "      <td>Wrestling</td>\n",
       "      <td>Wrestling Gre-R</td>\n",
       "      <td>ENGLICH, Mirko</td>\n",
       "      <td>GER</td>\n",
       "      <td>Men</td>\n",
       "      <td>84 - 96kg</td>\n",
       "      <td>M</td>\n",
       "      <td>Silver</td>\n",
       "    </tr>\n",
       "    <tr>\n",
       "      <th>29212</th>\n",
       "      <td>Beijing</td>\n",
       "      <td>2008</td>\n",
       "      <td>Wrestling</td>\n",
       "      <td>Wrestling Gre-R</td>\n",
       "      <td>MIZGAITIS, Mindaugas</td>\n",
       "      <td>LTU</td>\n",
       "      <td>Men</td>\n",
       "      <td>96 - 120kg</td>\n",
       "      <td>M</td>\n",
       "      <td>Bronze</td>\n",
       "    </tr>\n",
       "    <tr>\n",
       "      <th>29213</th>\n",
       "      <td>Beijing</td>\n",
       "      <td>2008</td>\n",
       "      <td>Wrestling</td>\n",
       "      <td>Wrestling Gre-R</td>\n",
       "      <td>PATRIKEEV, Yuri</td>\n",
       "      <td>ARM</td>\n",
       "      <td>Men</td>\n",
       "      <td>96 - 120kg</td>\n",
       "      <td>M</td>\n",
       "      <td>Bronze</td>\n",
       "    </tr>\n",
       "    <tr>\n",
       "      <th>29214</th>\n",
       "      <td>Beijing</td>\n",
       "      <td>2008</td>\n",
       "      <td>Wrestling</td>\n",
       "      <td>Wrestling Gre-R</td>\n",
       "      <td>LOPEZ, Mijain</td>\n",
       "      <td>CUB</td>\n",
       "      <td>Men</td>\n",
       "      <td>96 - 120kg</td>\n",
       "      <td>M</td>\n",
       "      <td>Gold</td>\n",
       "    </tr>\n",
       "    <tr>\n",
       "      <th>29215</th>\n",
       "      <td>Beijing</td>\n",
       "      <td>2008</td>\n",
       "      <td>Wrestling</td>\n",
       "      <td>Wrestling Gre-R</td>\n",
       "      <td>BAROEV, Khasan</td>\n",
       "      <td>RUS</td>\n",
       "      <td>Men</td>\n",
       "      <td>96 - 120kg</td>\n",
       "      <td>M</td>\n",
       "      <td>Silver</td>\n",
       "    </tr>\n",
       "  </tbody>\n",
       "</table>\n",
       "<p>29216 rows × 10 columns</p>\n",
       "</div>"
      ],
      "text/plain": [
       "          City  Edition      Sport       Discipline               Athlete  \\\n",
       "0       Athens     1896   Aquatics         Swimming         HAJOS, Alfred   \n",
       "1       Athens     1896   Aquatics         Swimming      HERSCHMANN, Otto   \n",
       "2       Athens     1896   Aquatics         Swimming     DRIVAS, Dimitrios   \n",
       "3       Athens     1896   Aquatics         Swimming    MALOKINIS, Ioannis   \n",
       "4       Athens     1896   Aquatics         Swimming    CHASAPIS, Spiridon   \n",
       "...        ...      ...        ...              ...                   ...   \n",
       "29211  Beijing     2008  Wrestling  Wrestling Gre-R        ENGLICH, Mirko   \n",
       "29212  Beijing     2008  Wrestling  Wrestling Gre-R  MIZGAITIS, Mindaugas   \n",
       "29213  Beijing     2008  Wrestling  Wrestling Gre-R       PATRIKEEV, Yuri   \n",
       "29214  Beijing     2008  Wrestling  Wrestling Gre-R         LOPEZ, Mijain   \n",
       "29215  Beijing     2008  Wrestling  Wrestling Gre-R        BAROEV, Khasan   \n",
       "\n",
       "       NOC Gender                       Event Event_gender   Medal  \n",
       "0      HUN    Men              100m freestyle            M    Gold  \n",
       "1      AUT    Men              100m freestyle            M  Silver  \n",
       "2      GRE    Men  100m freestyle for sailors            M  Bronze  \n",
       "3      GRE    Men  100m freestyle for sailors            M    Gold  \n",
       "4      GRE    Men  100m freestyle for sailors            M  Silver  \n",
       "...    ...    ...                         ...          ...     ...  \n",
       "29211  GER    Men                   84 - 96kg            M  Silver  \n",
       "29212  LTU    Men                  96 - 120kg            M  Bronze  \n",
       "29213  ARM    Men                  96 - 120kg            M  Bronze  \n",
       "29214  CUB    Men                  96 - 120kg            M    Gold  \n",
       "29215  RUS    Men                  96 - 120kg            M  Silver  \n",
       "\n",
       "[29216 rows x 10 columns]"
      ]
     },
     "execution_count": 4,
     "metadata": {},
     "output_type": "execute_result"
    }
   ],
   "source": [
    "odata=pd.read_csv('olympics.csv',skiprows=4)\n",
    "odata"
   ]
  },
  {
   "cell_type": "code",
   "execution_count": 18,
   "id": "a29e5b9d",
   "metadata": {},
   "outputs": [
    {
     "data": {
      "text/html": [
       "<div>\n",
       "<style scoped>\n",
       "    .dataframe tbody tr th:only-of-type {\n",
       "        vertical-align: middle;\n",
       "    }\n",
       "\n",
       "    .dataframe tbody tr th {\n",
       "        vertical-align: top;\n",
       "    }\n",
       "\n",
       "    .dataframe thead th {\n",
       "        text-align: right;\n",
       "    }\n",
       "</style>\n",
       "<table border=\"1\" class=\"dataframe\">\n",
       "  <thead>\n",
       "    <tr style=\"text-align: right;\">\n",
       "      <th></th>\n",
       "      <th>City</th>\n",
       "      <th>Edition</th>\n",
       "      <th>Sport</th>\n",
       "      <th>Discipline</th>\n",
       "      <th>Athlete</th>\n",
       "      <th>NOC</th>\n",
       "      <th>Gender</th>\n",
       "      <th>Event</th>\n",
       "      <th>Event_gender</th>\n",
       "      <th>Medal</th>\n",
       "    </tr>\n",
       "  </thead>\n",
       "  <tbody>\n",
       "    <tr>\n",
       "      <th>0</th>\n",
       "      <td>Athens</td>\n",
       "      <td>1896</td>\n",
       "      <td>Aquatics</td>\n",
       "      <td>Swimming</td>\n",
       "      <td>HAJOS, Alfred</td>\n",
       "      <td>HUN</td>\n",
       "      <td>Men</td>\n",
       "      <td>100m freestyle</td>\n",
       "      <td>M</td>\n",
       "      <td>Gold</td>\n",
       "    </tr>\n",
       "    <tr>\n",
       "      <th>1</th>\n",
       "      <td>Athens</td>\n",
       "      <td>1896</td>\n",
       "      <td>Aquatics</td>\n",
       "      <td>Swimming</td>\n",
       "      <td>HERSCHMANN, Otto</td>\n",
       "      <td>AUT</td>\n",
       "      <td>Men</td>\n",
       "      <td>100m freestyle</td>\n",
       "      <td>M</td>\n",
       "      <td>Silver</td>\n",
       "    </tr>\n",
       "    <tr>\n",
       "      <th>2</th>\n",
       "      <td>Athens</td>\n",
       "      <td>1896</td>\n",
       "      <td>Aquatics</td>\n",
       "      <td>Swimming</td>\n",
       "      <td>DRIVAS, Dimitrios</td>\n",
       "      <td>GRE</td>\n",
       "      <td>Men</td>\n",
       "      <td>100m freestyle for sailors</td>\n",
       "      <td>M</td>\n",
       "      <td>Bronze</td>\n",
       "    </tr>\n",
       "    <tr>\n",
       "      <th>3</th>\n",
       "      <td>Athens</td>\n",
       "      <td>1896</td>\n",
       "      <td>Aquatics</td>\n",
       "      <td>Swimming</td>\n",
       "      <td>MALOKINIS, Ioannis</td>\n",
       "      <td>GRE</td>\n",
       "      <td>Men</td>\n",
       "      <td>100m freestyle for sailors</td>\n",
       "      <td>M</td>\n",
       "      <td>Gold</td>\n",
       "    </tr>\n",
       "    <tr>\n",
       "      <th>4</th>\n",
       "      <td>Athens</td>\n",
       "      <td>1896</td>\n",
       "      <td>Aquatics</td>\n",
       "      <td>Swimming</td>\n",
       "      <td>CHASAPIS, Spiridon</td>\n",
       "      <td>GRE</td>\n",
       "      <td>Men</td>\n",
       "      <td>100m freestyle for sailors</td>\n",
       "      <td>M</td>\n",
       "      <td>Silver</td>\n",
       "    </tr>\n",
       "  </tbody>\n",
       "</table>\n",
       "</div>"
      ],
      "text/plain": [
       "     City  Edition     Sport Discipline             Athlete  NOC Gender  \\\n",
       "0  Athens     1896  Aquatics   Swimming       HAJOS, Alfred  HUN    Men   \n",
       "1  Athens     1896  Aquatics   Swimming    HERSCHMANN, Otto  AUT    Men   \n",
       "2  Athens     1896  Aquatics   Swimming   DRIVAS, Dimitrios  GRE    Men   \n",
       "3  Athens     1896  Aquatics   Swimming  MALOKINIS, Ioannis  GRE    Men   \n",
       "4  Athens     1896  Aquatics   Swimming  CHASAPIS, Spiridon  GRE    Men   \n",
       "\n",
       "                        Event Event_gender   Medal  \n",
       "0              100m freestyle            M    Gold  \n",
       "1              100m freestyle            M  Silver  \n",
       "2  100m freestyle for sailors            M  Bronze  \n",
       "3  100m freestyle for sailors            M    Gold  \n",
       "4  100m freestyle for sailors            M  Silver  "
      ]
     },
     "execution_count": 18,
     "metadata": {},
     "output_type": "execute_result"
    }
   ],
   "source": [
    "odata.head()"
   ]
  },
  {
   "cell_type": "code",
   "execution_count": 7,
   "id": "7dde21ee",
   "metadata": {},
   "outputs": [
    {
     "data": {
      "text/html": [
       "<div>\n",
       "<style scoped>\n",
       "    .dataframe tbody tr th:only-of-type {\n",
       "        vertical-align: middle;\n",
       "    }\n",
       "\n",
       "    .dataframe tbody tr th {\n",
       "        vertical-align: top;\n",
       "    }\n",
       "\n",
       "    .dataframe thead th {\n",
       "        text-align: right;\n",
       "    }\n",
       "</style>\n",
       "<table border=\"1\" class=\"dataframe\">\n",
       "  <thead>\n",
       "    <tr style=\"text-align: right;\">\n",
       "      <th></th>\n",
       "      <th>Edition</th>\n",
       "    </tr>\n",
       "  </thead>\n",
       "  <tbody>\n",
       "    <tr>\n",
       "      <th>count</th>\n",
       "      <td>29216.000000</td>\n",
       "    </tr>\n",
       "    <tr>\n",
       "      <th>mean</th>\n",
       "      <td>1967.713171</td>\n",
       "    </tr>\n",
       "    <tr>\n",
       "      <th>std</th>\n",
       "      <td>32.406293</td>\n",
       "    </tr>\n",
       "    <tr>\n",
       "      <th>min</th>\n",
       "      <td>1896.000000</td>\n",
       "    </tr>\n",
       "    <tr>\n",
       "      <th>25%</th>\n",
       "      <td>1948.000000</td>\n",
       "    </tr>\n",
       "    <tr>\n",
       "      <th>50%</th>\n",
       "      <td>1976.000000</td>\n",
       "    </tr>\n",
       "    <tr>\n",
       "      <th>75%</th>\n",
       "      <td>1996.000000</td>\n",
       "    </tr>\n",
       "    <tr>\n",
       "      <th>max</th>\n",
       "      <td>2008.000000</td>\n",
       "    </tr>\n",
       "  </tbody>\n",
       "</table>\n",
       "</div>"
      ],
      "text/plain": [
       "            Edition\n",
       "count  29216.000000\n",
       "mean    1967.713171\n",
       "std       32.406293\n",
       "min     1896.000000\n",
       "25%     1948.000000\n",
       "50%     1976.000000\n",
       "75%     1996.000000\n",
       "max     2008.000000"
      ]
     },
     "execution_count": 7,
     "metadata": {},
     "output_type": "execute_result"
    }
   ],
   "source": [
    "#data observation\n",
    "odata.describe()"
   ]
  },
  {
   "cell_type": "code",
   "execution_count": 20,
   "id": "d7784f42",
   "metadata": {
    "scrolled": true
   },
   "outputs": [
    {
     "data": {
      "text/plain": [
       "10"
      ]
     },
     "execution_count": 20,
     "metadata": {},
     "output_type": "execute_result"
    }
   ],
   "source": [
    "len(odata.columns)"
   ]
  },
  {
   "cell_type": "code",
   "execution_count": 9,
   "id": "5584ca81",
   "metadata": {},
   "outputs": [
    {
     "data": {
      "text/plain": [
       "(29216, 10)"
      ]
     },
     "execution_count": 9,
     "metadata": {},
     "output_type": "execute_result"
    }
   ],
   "source": [
    "odata.shape"
   ]
  },
  {
   "cell_type": "code",
   "execution_count": 21,
   "id": "9286348c",
   "metadata": {},
   "outputs": [
    {
     "data": {
      "text/plain": [
       "Index(['City', 'Edition', 'Sport', 'Discipline', 'Athlete', 'NOC', 'Gender',\n",
       "       'Event', 'Event_gender', 'Medal'],\n",
       "      dtype='object')"
      ]
     },
     "execution_count": 21,
     "metadata": {},
     "output_type": "execute_result"
    }
   ],
   "source": [
    "odata.columns"
   ]
  },
  {
   "cell_type": "code",
   "execution_count": 22,
   "id": "c71927ae",
   "metadata": {
    "scrolled": true
   },
   "outputs": [
    {
     "data": {
      "text/plain": [
       "RangeIndex(start=0, stop=29216, step=1)"
      ]
     },
     "execution_count": 22,
     "metadata": {},
     "output_type": "execute_result"
    }
   ],
   "source": [
    "odata.index"
   ]
  },
  {
   "cell_type": "code",
   "execution_count": 16,
   "id": "8463602b",
   "metadata": {},
   "outputs": [
    {
     "data": {
      "text/plain": [
       "0        Gold\n",
       "3        Gold\n",
       "6        Gold\n",
       "9        Gold\n",
       "13       Gold\n",
       "         ... \n",
       "29199    Gold\n",
       "29203    Gold\n",
       "29206    Gold\n",
       "29210    Gold\n",
       "29214    Gold\n",
       "Name: Medal, Length: 9850, dtype: object"
      ]
     },
     "execution_count": 16,
     "metadata": {},
     "output_type": "execute_result"
    }
   ],
   "source": [
    "odata[odata.Medal=='Gold'].Medal"
   ]
  },
  {
   "cell_type": "code",
   "execution_count": 36,
   "id": "2f025237",
   "metadata": {},
   "outputs": [
    {
     "data": {
      "text/plain": [
       "Gold    9850\n",
       "Name: Medal, dtype: int64"
      ]
     },
     "execution_count": 36,
     "metadata": {},
     "output_type": "execute_result"
    }
   ],
   "source": [
    "odata[odata.Medal=='Gold'].Medal.value_counts()"
   ]
  },
  {
   "cell_type": "code",
   "execution_count": 37,
   "id": "c02f1158",
   "metadata": {},
   "outputs": [
    {
     "data": {
      "text/plain": [
       "9850"
      ]
     },
     "execution_count": 37,
     "metadata": {},
     "output_type": "execute_result"
    }
   ],
   "source": [
    "odata[odata['Medal']=='Gold']['Medal'].count()"
   ]
  },
  {
   "cell_type": "code",
   "execution_count": null,
   "id": "437a6115",
   "metadata": {},
   "outputs": [],
   "source": []
  },
  {
   "cell_type": "code",
   "execution_count": 30,
   "id": "43016f0b",
   "metadata": {
    "collapsed": true
   },
   "outputs": [
    {
     "data": {
      "text/plain": [
       "(          City  Edition      Sport       Discipline              Athlete  NOC  \\\n",
       " 0       Athens     1896   Aquatics         Swimming        HAJOS, Alfred  HUN   \n",
       " 3       Athens     1896   Aquatics         Swimming   MALOKINIS, Ioannis  GRE   \n",
       " 6       Athens     1896   Aquatics         Swimming        HAJOS, Alfred  HUN   \n",
       " 9       Athens     1896   Aquatics         Swimming        NEUMANN, Paul  AUT   \n",
       " 13      Athens     1896  Athletics        Athletics        BURKE, Thomas  USA   \n",
       " ...        ...      ...        ...              ...                  ...  ...   \n",
       " 29199  Beijing     2008  Wrestling  Wrestling Gre-R       GUENOT, Steeve  FRA   \n",
       " 29203  Beijing     2008  Wrestling  Wrestling Gre-R  KVIRKELIA, Manuchar  GEO   \n",
       " 29206  Beijing     2008  Wrestling  Wrestling Gre-R     MINGUZZI, Andrea  ITA   \n",
       " 29210  Beijing     2008  Wrestling  Wrestling Gre-R   KHUSHTOV, Aslanbek  RUS   \n",
       " 29214  Beijing     2008  Wrestling  Wrestling Gre-R        LOPEZ, Mijain  CUB   \n",
       " \n",
       "       Gender                       Event Event_gender Medal  \n",
       " 0        Men              100m freestyle            M  Gold  \n",
       " 3        Men  100m freestyle for sailors            M  Gold  \n",
       " 6        Men             1200m freestyle            M  Gold  \n",
       " 9        Men              400m freestyle            M  Gold  \n",
       " 13       Men                        100m            M  Gold  \n",
       " ...      ...                         ...          ...   ...  \n",
       " 29199    Men                   60 - 66kg            M  Gold  \n",
       " 29203    Men                   66 - 74kg            M  Gold  \n",
       " 29206    Men                   74 - 84kg            M  Gold  \n",
       " 29210    Men                   84 - 96kg            M  Gold  \n",
       " 29214    Men                  96 - 120kg            M  Gold  \n",
       " \n",
       " [9850 rows x 10 columns],\n",
       " [False])"
      ]
     },
     "execution_count": 30,
     "metadata": {},
     "output_type": "execute_result"
    }
   ],
   "source": [
    "#Display the male gold medal winners for the 100m Track?\n",
    "#netflix[netflix[\"IMDB Rating\"]>=10]['title']\n",
    "odata[odata['Medal']=='Gold'],[['Event']=='100m']"
   ]
  },
  {
   "cell_type": "code",
   "execution_count": 64,
   "id": "b6ee5205",
   "metadata": {
    "scrolled": false
   },
   "outputs": [
    {
     "data": {
      "text/plain": [
       "array(['Swimming', 'Athletics', 'Cycling Road', 'Cycling Track',\n",
       "       'Fencing', 'Artistic G.', 'Shooting', 'Tennis', 'Weightlifting',\n",
       "       'Wrestling Gre-R', 'Water polo', 'Archery', 'Basque Pelota',\n",
       "       'Cricket', 'Croquet', 'Jumping', 'Football', 'Golf', 'Polo',\n",
       "       'Rowing', 'Rugby', 'Sailing', 'Tug of War', 'Diving', 'Boxing',\n",
       "       'Lacrosse', 'Roque', 'Wrestling Free.', 'Hockey', 'Jeu de Paume',\n",
       "       'Rackets', 'Figure skating', 'Water Motorspor', 'Dressage',\n",
       "       'Eventing', 'Modern Pentath.', 'Vaulting', 'Ice Hockey',\n",
       "       'Basketball', 'Canoe / Kayak F', 'Handball', 'Judo', 'Volleyball',\n",
       "       'Canoe / Kayak S', 'Synchronized S.', 'Rhythmic G.',\n",
       "       'Table Tennis', 'Badminton', 'Baseball', 'Mountain Bike',\n",
       "       'Softball', 'Beach volley.', 'Trampoline', 'Taekwondo',\n",
       "       'Triathlon', 'BMX'], dtype=object)"
      ]
     },
     "execution_count": 64,
     "metadata": {},
     "output_type": "execute_result"
    }
   ],
   "source": [
    "odata.Discipline.unique()"
   ]
  },
  {
   "cell_type": "code",
   "execution_count": 71,
   "id": "d45f2b85",
   "metadata": {},
   "outputs": [
    {
     "data": {
      "text/plain": [
       "array(['Men', 'Women'], dtype=object)"
      ]
     },
     "execution_count": 71,
     "metadata": {},
     "output_type": "execute_result"
    }
   ],
   "source": [
    "odata.Gender.unique()"
   ]
  },
  {
   "cell_type": "code",
   "execution_count": 44,
   "id": "57b867e5",
   "metadata": {},
   "outputs": [
    {
     "data": {
      "text/html": [
       "<div>\n",
       "<style scoped>\n",
       "    .dataframe tbody tr th:only-of-type {\n",
       "        vertical-align: middle;\n",
       "    }\n",
       "\n",
       "    .dataframe tbody tr th {\n",
       "        vertical-align: top;\n",
       "    }\n",
       "\n",
       "    .dataframe thead th {\n",
       "        text-align: right;\n",
       "    }\n",
       "</style>\n",
       "<table border=\"1\" class=\"dataframe\">\n",
       "  <thead>\n",
       "    <tr style=\"text-align: right;\">\n",
       "      <th></th>\n",
       "      <th>City</th>\n",
       "      <th>Edition</th>\n",
       "      <th>Sport</th>\n",
       "      <th>Discipline</th>\n",
       "      <th>Athlete</th>\n",
       "      <th>NOC</th>\n",
       "      <th>Gender</th>\n",
       "      <th>Event</th>\n",
       "      <th>Event_gender</th>\n",
       "      <th>Medal</th>\n",
       "    </tr>\n",
       "  </thead>\n",
       "  <tbody>\n",
       "    <tr>\n",
       "      <th>13</th>\n",
       "      <td>Athens</td>\n",
       "      <td>1896</td>\n",
       "      <td>Athletics</td>\n",
       "      <td>Athletics</td>\n",
       "      <td>BURKE, Thomas</td>\n",
       "      <td>USA</td>\n",
       "      <td>Men</td>\n",
       "      <td>100m</td>\n",
       "      <td>M</td>\n",
       "      <td>Gold</td>\n",
       "    </tr>\n",
       "    <tr>\n",
       "      <th>231</th>\n",
       "      <td>Paris</td>\n",
       "      <td>1900</td>\n",
       "      <td>Athletics</td>\n",
       "      <td>Athletics</td>\n",
       "      <td>JARVIS, Francis</td>\n",
       "      <td>USA</td>\n",
       "      <td>Men</td>\n",
       "      <td>100m</td>\n",
       "      <td>M</td>\n",
       "      <td>Gold</td>\n",
       "    </tr>\n",
       "    <tr>\n",
       "      <th>737</th>\n",
       "      <td>St Louis</td>\n",
       "      <td>1904</td>\n",
       "      <td>Athletics</td>\n",
       "      <td>Athletics</td>\n",
       "      <td>HAHN, Archie</td>\n",
       "      <td>USA</td>\n",
       "      <td>Men</td>\n",
       "      <td>100m</td>\n",
       "      <td>M</td>\n",
       "      <td>Gold</td>\n",
       "    </tr>\n",
       "    <tr>\n",
       "      <th>1191</th>\n",
       "      <td>London</td>\n",
       "      <td>1908</td>\n",
       "      <td>Athletics</td>\n",
       "      <td>Athletics</td>\n",
       "      <td>WALKER, Reginald</td>\n",
       "      <td>RSA</td>\n",
       "      <td>Men</td>\n",
       "      <td>100m</td>\n",
       "      <td>M</td>\n",
       "      <td>Gold</td>\n",
       "    </tr>\n",
       "    <tr>\n",
       "      <th>2022</th>\n",
       "      <td>Stockholm</td>\n",
       "      <td>1912</td>\n",
       "      <td>Athletics</td>\n",
       "      <td>Athletics</td>\n",
       "      <td>CRAIG, Ralph</td>\n",
       "      <td>USA</td>\n",
       "      <td>Men</td>\n",
       "      <td>100m</td>\n",
       "      <td>M</td>\n",
       "      <td>Gold</td>\n",
       "    </tr>\n",
       "    <tr>\n",
       "      <th>2996</th>\n",
       "      <td>Antwerp</td>\n",
       "      <td>1920</td>\n",
       "      <td>Athletics</td>\n",
       "      <td>Athletics</td>\n",
       "      <td>PADDOCK, Charles</td>\n",
       "      <td>USA</td>\n",
       "      <td>Men</td>\n",
       "      <td>100m</td>\n",
       "      <td>M</td>\n",
       "      <td>Gold</td>\n",
       "    </tr>\n",
       "    <tr>\n",
       "      <th>4236</th>\n",
       "      <td>Paris</td>\n",
       "      <td>1924</td>\n",
       "      <td>Athletics</td>\n",
       "      <td>Athletics</td>\n",
       "      <td>ABRAHAMS, Harold</td>\n",
       "      <td>GBR</td>\n",
       "      <td>Men</td>\n",
       "      <td>100m</td>\n",
       "      <td>M</td>\n",
       "      <td>Gold</td>\n",
       "    </tr>\n",
       "    <tr>\n",
       "      <th>5095</th>\n",
       "      <td>Amsterdam</td>\n",
       "      <td>1928</td>\n",
       "      <td>Athletics</td>\n",
       "      <td>Athletics</td>\n",
       "      <td>WILLIAMS, Percy</td>\n",
       "      <td>CAN</td>\n",
       "      <td>Men</td>\n",
       "      <td>100m</td>\n",
       "      <td>M</td>\n",
       "      <td>Gold</td>\n",
       "    </tr>\n",
       "    <tr>\n",
       "      <th>5806</th>\n",
       "      <td>Los Angeles</td>\n",
       "      <td>1932</td>\n",
       "      <td>Athletics</td>\n",
       "      <td>Athletics</td>\n",
       "      <td>TOLAN, Eddie</td>\n",
       "      <td>USA</td>\n",
       "      <td>Men</td>\n",
       "      <td>100m</td>\n",
       "      <td>M</td>\n",
       "      <td>Gold</td>\n",
       "    </tr>\n",
       "    <tr>\n",
       "      <th>6427</th>\n",
       "      <td>Berlin</td>\n",
       "      <td>1936</td>\n",
       "      <td>Athletics</td>\n",
       "      <td>Athletics</td>\n",
       "      <td>OWENS, Jesse</td>\n",
       "      <td>USA</td>\n",
       "      <td>Men</td>\n",
       "      <td>100m</td>\n",
       "      <td>M</td>\n",
       "      <td>Gold</td>\n",
       "    </tr>\n",
       "    <tr>\n",
       "      <th>7302</th>\n",
       "      <td>London</td>\n",
       "      <td>1948</td>\n",
       "      <td>Athletics</td>\n",
       "      <td>Athletics</td>\n",
       "      <td>DILLARD, Harrison</td>\n",
       "      <td>USA</td>\n",
       "      <td>Men</td>\n",
       "      <td>100m</td>\n",
       "      <td>M</td>\n",
       "      <td>Gold</td>\n",
       "    </tr>\n",
       "    <tr>\n",
       "      <th>8121</th>\n",
       "      <td>Helsinki</td>\n",
       "      <td>1952</td>\n",
       "      <td>Athletics</td>\n",
       "      <td>Athletics</td>\n",
       "      <td>REMIGINO, Lindy</td>\n",
       "      <td>USA</td>\n",
       "      <td>Men</td>\n",
       "      <td>100m</td>\n",
       "      <td>M</td>\n",
       "      <td>Gold</td>\n",
       "    </tr>\n",
       "    <tr>\n",
       "      <th>9009</th>\n",
       "      <td>Melbourne / Stockholm</td>\n",
       "      <td>1956</td>\n",
       "      <td>Athletics</td>\n",
       "      <td>Athletics</td>\n",
       "      <td>MORROW, Robert Joseph</td>\n",
       "      <td>USA</td>\n",
       "      <td>Men</td>\n",
       "      <td>100m</td>\n",
       "      <td>M</td>\n",
       "      <td>Gold</td>\n",
       "    </tr>\n",
       "    <tr>\n",
       "      <th>9924</th>\n",
       "      <td>Rome</td>\n",
       "      <td>1960</td>\n",
       "      <td>Athletics</td>\n",
       "      <td>Athletics</td>\n",
       "      <td>HARY, Armin</td>\n",
       "      <td>EUA</td>\n",
       "      <td>Men</td>\n",
       "      <td>100m</td>\n",
       "      <td>M</td>\n",
       "      <td>Gold</td>\n",
       "    </tr>\n",
       "    <tr>\n",
       "      <th>10823</th>\n",
       "      <td>Tokyo</td>\n",
       "      <td>1964</td>\n",
       "      <td>Athletics</td>\n",
       "      <td>Athletics</td>\n",
       "      <td>HAYES, Robert</td>\n",
       "      <td>USA</td>\n",
       "      <td>Men</td>\n",
       "      <td>100m</td>\n",
       "      <td>M</td>\n",
       "      <td>Gold</td>\n",
       "    </tr>\n",
       "    <tr>\n",
       "      <th>11865</th>\n",
       "      <td>Mexico</td>\n",
       "      <td>1968</td>\n",
       "      <td>Athletics</td>\n",
       "      <td>Athletics</td>\n",
       "      <td>HINES, James Ray</td>\n",
       "      <td>USA</td>\n",
       "      <td>Men</td>\n",
       "      <td>100m</td>\n",
       "      <td>M</td>\n",
       "      <td>Gold</td>\n",
       "    </tr>\n",
       "    <tr>\n",
       "      <th>12902</th>\n",
       "      <td>Munich</td>\n",
       "      <td>1972</td>\n",
       "      <td>Athletics</td>\n",
       "      <td>Athletics</td>\n",
       "      <td>BORZOV, Valery</td>\n",
       "      <td>URS</td>\n",
       "      <td>Men</td>\n",
       "      <td>100m</td>\n",
       "      <td>M</td>\n",
       "      <td>Gold</td>\n",
       "    </tr>\n",
       "    <tr>\n",
       "      <th>14069</th>\n",
       "      <td>Montreal</td>\n",
       "      <td>1976</td>\n",
       "      <td>Athletics</td>\n",
       "      <td>Athletics</td>\n",
       "      <td>CRAWFORD, Hasely</td>\n",
       "      <td>TRI</td>\n",
       "      <td>Men</td>\n",
       "      <td>100m</td>\n",
       "      <td>M</td>\n",
       "      <td>Gold</td>\n",
       "    </tr>\n",
       "    <tr>\n",
       "      <th>15374</th>\n",
       "      <td>Moscow</td>\n",
       "      <td>1980</td>\n",
       "      <td>Athletics</td>\n",
       "      <td>Athletics</td>\n",
       "      <td>WELLS, Allan</td>\n",
       "      <td>GBR</td>\n",
       "      <td>Men</td>\n",
       "      <td>100m</td>\n",
       "      <td>M</td>\n",
       "      <td>Gold</td>\n",
       "    </tr>\n",
       "    <tr>\n",
       "      <th>16794</th>\n",
       "      <td>Los Angeles</td>\n",
       "      <td>1984</td>\n",
       "      <td>Athletics</td>\n",
       "      <td>Athletics</td>\n",
       "      <td>LEWIS, Carl</td>\n",
       "      <td>USA</td>\n",
       "      <td>Men</td>\n",
       "      <td>100m</td>\n",
       "      <td>M</td>\n",
       "      <td>Gold</td>\n",
       "    </tr>\n",
       "    <tr>\n",
       "      <th>18284</th>\n",
       "      <td>Seoul</td>\n",
       "      <td>1988</td>\n",
       "      <td>Athletics</td>\n",
       "      <td>Athletics</td>\n",
       "      <td>LEWIS, Carl</td>\n",
       "      <td>USA</td>\n",
       "      <td>Men</td>\n",
       "      <td>100m</td>\n",
       "      <td>M</td>\n",
       "      <td>Gold</td>\n",
       "    </tr>\n",
       "    <tr>\n",
       "      <th>19859</th>\n",
       "      <td>Barcelona</td>\n",
       "      <td>1992</td>\n",
       "      <td>Athletics</td>\n",
       "      <td>Athletics</td>\n",
       "      <td>CHRISTIE, Linford</td>\n",
       "      <td>GBR</td>\n",
       "      <td>Men</td>\n",
       "      <td>100m</td>\n",
       "      <td>M</td>\n",
       "      <td>Gold</td>\n",
       "    </tr>\n",
       "    <tr>\n",
       "      <th>21598</th>\n",
       "      <td>Atlanta</td>\n",
       "      <td>1996</td>\n",
       "      <td>Athletics</td>\n",
       "      <td>Athletics</td>\n",
       "      <td>BAILEY, Donovan</td>\n",
       "      <td>CAN</td>\n",
       "      <td>Men</td>\n",
       "      <td>100m</td>\n",
       "      <td>M</td>\n",
       "      <td>Gold</td>\n",
       "    </tr>\n",
       "    <tr>\n",
       "      <th>23521</th>\n",
       "      <td>Sydney</td>\n",
       "      <td>2000</td>\n",
       "      <td>Athletics</td>\n",
       "      <td>Athletics</td>\n",
       "      <td>GREENE, Maurice</td>\n",
       "      <td>USA</td>\n",
       "      <td>Men</td>\n",
       "      <td>100m</td>\n",
       "      <td>M</td>\n",
       "      <td>Gold</td>\n",
       "    </tr>\n",
       "    <tr>\n",
       "      <th>25539</th>\n",
       "      <td>Athens</td>\n",
       "      <td>2004</td>\n",
       "      <td>Athletics</td>\n",
       "      <td>Athletics</td>\n",
       "      <td>GATLIN, Justin</td>\n",
       "      <td>USA</td>\n",
       "      <td>Men</td>\n",
       "      <td>100m</td>\n",
       "      <td>M</td>\n",
       "      <td>Gold</td>\n",
       "    </tr>\n",
       "    <tr>\n",
       "      <th>27552</th>\n",
       "      <td>Beijing</td>\n",
       "      <td>2008</td>\n",
       "      <td>Athletics</td>\n",
       "      <td>Athletics</td>\n",
       "      <td>BOLT, Usain</td>\n",
       "      <td>JAM</td>\n",
       "      <td>Men</td>\n",
       "      <td>100m</td>\n",
       "      <td>M</td>\n",
       "      <td>Gold</td>\n",
       "    </tr>\n",
       "  </tbody>\n",
       "</table>\n",
       "</div>"
      ],
      "text/plain": [
       "                        City  Edition      Sport Discipline  \\\n",
       "13                    Athens     1896  Athletics  Athletics   \n",
       "231                    Paris     1900  Athletics  Athletics   \n",
       "737                 St Louis     1904  Athletics  Athletics   \n",
       "1191                  London     1908  Athletics  Athletics   \n",
       "2022               Stockholm     1912  Athletics  Athletics   \n",
       "2996                 Antwerp     1920  Athletics  Athletics   \n",
       "4236                   Paris     1924  Athletics  Athletics   \n",
       "5095               Amsterdam     1928  Athletics  Athletics   \n",
       "5806             Los Angeles     1932  Athletics  Athletics   \n",
       "6427                  Berlin     1936  Athletics  Athletics   \n",
       "7302                  London     1948  Athletics  Athletics   \n",
       "8121                Helsinki     1952  Athletics  Athletics   \n",
       "9009   Melbourne / Stockholm     1956  Athletics  Athletics   \n",
       "9924                    Rome     1960  Athletics  Athletics   \n",
       "10823                  Tokyo     1964  Athletics  Athletics   \n",
       "11865                 Mexico     1968  Athletics  Athletics   \n",
       "12902                 Munich     1972  Athletics  Athletics   \n",
       "14069               Montreal     1976  Athletics  Athletics   \n",
       "15374                 Moscow     1980  Athletics  Athletics   \n",
       "16794            Los Angeles     1984  Athletics  Athletics   \n",
       "18284                  Seoul     1988  Athletics  Athletics   \n",
       "19859              Barcelona     1992  Athletics  Athletics   \n",
       "21598                Atlanta     1996  Athletics  Athletics   \n",
       "23521                 Sydney     2000  Athletics  Athletics   \n",
       "25539                 Athens     2004  Athletics  Athletics   \n",
       "27552                Beijing     2008  Athletics  Athletics   \n",
       "\n",
       "                     Athlete  NOC Gender Event Event_gender Medal  \n",
       "13             BURKE, Thomas  USA    Men  100m            M  Gold  \n",
       "231          JARVIS, Francis  USA    Men  100m            M  Gold  \n",
       "737             HAHN, Archie  USA    Men  100m            M  Gold  \n",
       "1191        WALKER, Reginald  RSA    Men  100m            M  Gold  \n",
       "2022            CRAIG, Ralph  USA    Men  100m            M  Gold  \n",
       "2996        PADDOCK, Charles  USA    Men  100m            M  Gold  \n",
       "4236        ABRAHAMS, Harold  GBR    Men  100m            M  Gold  \n",
       "5095         WILLIAMS, Percy  CAN    Men  100m            M  Gold  \n",
       "5806            TOLAN, Eddie  USA    Men  100m            M  Gold  \n",
       "6427            OWENS, Jesse  USA    Men  100m            M  Gold  \n",
       "7302       DILLARD, Harrison  USA    Men  100m            M  Gold  \n",
       "8121         REMIGINO, Lindy  USA    Men  100m            M  Gold  \n",
       "9009   MORROW, Robert Joseph  USA    Men  100m            M  Gold  \n",
       "9924             HARY, Armin  EUA    Men  100m            M  Gold  \n",
       "10823          HAYES, Robert  USA    Men  100m            M  Gold  \n",
       "11865       HINES, James Ray  USA    Men  100m            M  Gold  \n",
       "12902         BORZOV, Valery  URS    Men  100m            M  Gold  \n",
       "14069       CRAWFORD, Hasely  TRI    Men  100m            M  Gold  \n",
       "15374           WELLS, Allan  GBR    Men  100m            M  Gold  \n",
       "16794            LEWIS, Carl  USA    Men  100m            M  Gold  \n",
       "18284            LEWIS, Carl  USA    Men  100m            M  Gold  \n",
       "19859      CHRISTIE, Linford  GBR    Men  100m            M  Gold  \n",
       "21598        BAILEY, Donovan  CAN    Men  100m            M  Gold  \n",
       "23521        GREENE, Maurice  USA    Men  100m            M  Gold  \n",
       "25539         GATLIN, Justin  USA    Men  100m            M  Gold  \n",
       "27552            BOLT, Usain  JAM    Men  100m            M  Gold  "
      ]
     },
     "execution_count": 44,
     "metadata": {},
     "output_type": "execute_result"
    }
   ],
   "source": [
    "#Which three countries have won the most medals in recent years (from 1984 to 2008)?\n",
    " \n",
    "odata[(odata.Gender=='Men')&(odata.Medal=='Gold')&(odata.Event=='100m')]"
   ]
  },
  {
   "cell_type": "code",
   "execution_count": 61,
   "id": "f142d8fc",
   "metadata": {
    "scrolled": true
   },
   "outputs": [
    {
     "data": {
      "text/plain": [
       "Beijing    2042\n",
       "Sydney     2015\n",
       "Athens     1998\n",
       "Name: City, dtype: int64"
      ]
     },
     "execution_count": 61,
     "metadata": {},
     "output_type": "execute_result"
    }
   ],
   "source": [
    "odata[(odata.Edition)>=1984].City.value_counts().head(3)"
   ]
  },
  {
   "cell_type": "code",
   "execution_count": 20,
   "id": "f86f825c",
   "metadata": {},
   "outputs": [
    {
     "data": {
      "text/plain": [
       "Beijing        2042\n",
       "Sydney         2015\n",
       "Athens         1998\n",
       "Atlanta        1859\n",
       "Barcelona      1705\n",
       "Seoul          1546\n",
       "Los Angeles    1459\n",
       "Name: City, dtype: int64"
      ]
     },
     "execution_count": 20,
     "metadata": {},
     "output_type": "execute_result"
    }
   ],
   "source": [
    "odata[odata.Edition>=1984].City.value_counts()"
   ]
  },
  {
   "cell_type": "code",
   "execution_count": 58,
   "id": "58ff63c1",
   "metadata": {},
   "outputs": [
    {
     "data": {
      "text/plain": [
       "<bound method NDFrame._add_numeric_operations.<locals>.max of 0        1896\n",
       "1        1896\n",
       "2        1896\n",
       "3        1896\n",
       "4        1896\n",
       "         ... \n",
       "29211    2008\n",
       "29212    2008\n",
       "29213    2008\n",
       "29214    2008\n",
       "29215    2008\n",
       "Name: Edition, Length: 29216, dtype: int64>"
      ]
     },
     "execution_count": 58,
     "metadata": {},
     "output_type": "execute_result"
    }
   ],
   "source": [
    "odata['Edition'].max"
   ]
  },
  {
   "cell_type": "code",
   "execution_count": null,
   "id": "518bd2c7",
   "metadata": {},
   "outputs": [],
   "source": []
  },
  {
   "cell_type": "markdown",
   "id": "17377469",
   "metadata": {},
   "source": [
    "# Which country has won the most men's gold medals in singles badminton over the years? Sort the results alphabetically by the player's names\n"
   ]
  },
  {
   "cell_type": "code",
   "execution_count": 21,
   "id": "93c6f856",
   "metadata": {},
   "outputs": [
    {
     "data": {
      "text/plain": [
       "Atlanta      4\n",
       "Sydney       4\n",
       "Athens       4\n",
       "Beijing      4\n",
       "Barcelona    3\n",
       "Name: City, dtype: int64"
      ]
     },
     "execution_count": 21,
     "metadata": {},
     "output_type": "execute_result"
    }
   ],
   "source": [
    "\n",
    "odata[(odata.Gender=='Men')&(odata.Medal=='Gold')&(odata.Sport=='Badminton')].City.value_counts().sort_values(ascending=False)"
   ]
  },
  {
   "cell_type": "code",
   "execution_count": 70,
   "id": "548f3d24",
   "metadata": {},
   "outputs": [
    {
     "data": {
      "text/plain": [
       "DEN    1\n",
       "CHN    4\n",
       "KOR    6\n",
       "INA    8\n",
       "Name: NOC, dtype: int64"
      ]
     },
     "execution_count": 70,
     "metadata": {},
     "output_type": "execute_result"
    }
   ],
   "source": [
    "odata[(odata.Gender=='Men')&(odata.Medal=='Gold')&(odata.Sport=='Badminton')].NOC.value_counts().sort_values()"
   ]
  },
  {
   "cell_type": "markdown",
   "id": "e118286f",
   "metadata": {},
   "source": [
    "# Display the women gold medal winners for the 100m Track?"
   ]
  },
  {
   "cell_type": "code",
   "execution_count": 75,
   "id": "a85e2a03",
   "metadata": {
    "scrolled": true
   },
   "outputs": [
    {
     "data": {
      "text/plain": [
       "5098           ROBINSON, Elizabeth\n",
       "5809       WALASIEWICZ, Stanislawa\n",
       "6430       STEPHENS, Helen Herring\n",
       "7305          BLANKERS-KOEN, Fanny\n",
       "8124             JACKSON, Marjorie\n",
       "9012               CUTHBERT, Betty\n",
       "9927                RUDOLPH, Wilma\n",
       "10826                 TYUS, Wyomia\n",
       "11868                 TYUS, Wyomia\n",
       "12905              STECHER, Renate\n",
       "14072    RICHTER-IRRGANG, Annegret\n",
       "15377        KONDRATIEVA, Liudmila\n",
       "16797              ASHFORD, Evelyn\n",
       "18287    GRIFFITH-JOYNER, Florence\n",
       "19862                 DEVERS, Gail\n",
       "21601                 DEVERS, Gail\n",
       "25542           NESTERENKO, Yuliya\n",
       "27554           FRASER, Shelly-ann\n",
       "Name: Athlete, dtype: object"
      ]
     },
     "execution_count": 75,
     "metadata": {},
     "output_type": "execute_result"
    }
   ],
   "source": [
    "\n",
    "odata[(odata.Gender=='Women')&(odata.Medal=='Gold')&(odata.Event=='100m')].Athlete"
   ]
  },
  {
   "cell_type": "markdown",
   "id": "cc1c6726",
   "metadata": {},
   "source": [
    "# list out the Sliver medal winner @ year 2008?"
   ]
  },
  {
   "cell_type": "code",
   "execution_count": 79,
   "id": "d87eb25a",
   "metadata": {},
   "outputs": [
    {
     "data": {
      "text/plain": [
       "27176            ZHOU, Luxin\n",
       "27179        HEYMANS, Emilie\n",
       "27182    DESPATIE, Alexandre\n",
       "27185       PAKHALINA, Julia\n",
       "27190      HAUSDING, Patrick\n",
       "                ...         \n",
       "29200     BEGALIEV, Kanatbek\n",
       "29204       CHANG, Yongxiang\n",
       "29207          FODOR, Zoltan\n",
       "29211         ENGLICH, Mirko\n",
       "29215         BAROEV, Khasan\n",
       "Name: Athlete, Length: 663, dtype: object"
      ]
     },
     "execution_count": 79,
     "metadata": {},
     "output_type": "execute_result"
    }
   ],
   "source": [
    "odata[(odata.Edition==2008) & (odata.Medal=='Silver')].Athlete"
   ]
  },
  {
   "cell_type": "code",
   "execution_count": null,
   "id": "9d310c69",
   "metadata": {},
   "outputs": [],
   "source": []
  },
  {
   "cell_type": "code",
   "execution_count": null,
   "id": "ba2de036",
   "metadata": {},
   "outputs": [],
   "source": []
  },
  {
   "cell_type": "markdown",
   "id": "5fc3fe7e",
   "metadata": {},
   "source": [
    "# Group by Countries and apply aggregate function min,max,count on over the year"
   ]
  },
  {
   "cell_type": "code",
   "execution_count": 99,
   "id": "35f7db68",
   "metadata": {
    "scrolled": true
   },
   "outputs": [
    {
     "data": {
      "text/html": [
       "<div>\n",
       "<style scoped>\n",
       "    .dataframe tbody tr th:only-of-type {\n",
       "        vertical-align: middle;\n",
       "    }\n",
       "\n",
       "    .dataframe tbody tr th {\n",
       "        vertical-align: top;\n",
       "    }\n",
       "\n",
       "    .dataframe thead th {\n",
       "        text-align: right;\n",
       "    }\n",
       "</style>\n",
       "<table border=\"1\" class=\"dataframe\">\n",
       "  <thead>\n",
       "    <tr style=\"text-align: right;\">\n",
       "      <th></th>\n",
       "      <th>min</th>\n",
       "      <th>max</th>\n",
       "      <th>count</th>\n",
       "    </tr>\n",
       "    <tr>\n",
       "      <th>NOC</th>\n",
       "      <th></th>\n",
       "      <th></th>\n",
       "      <th></th>\n",
       "    </tr>\n",
       "  </thead>\n",
       "  <tbody>\n",
       "    <tr>\n",
       "      <th>AFG</th>\n",
       "      <td>2008</td>\n",
       "      <td>2008</td>\n",
       "      <td>1</td>\n",
       "    </tr>\n",
       "    <tr>\n",
       "      <th>AHO</th>\n",
       "      <td>1988</td>\n",
       "      <td>1988</td>\n",
       "      <td>1</td>\n",
       "    </tr>\n",
       "    <tr>\n",
       "      <th>ALG</th>\n",
       "      <td>1984</td>\n",
       "      <td>2008</td>\n",
       "      <td>14</td>\n",
       "    </tr>\n",
       "    <tr>\n",
       "      <th>ANZ</th>\n",
       "      <td>1908</td>\n",
       "      <td>1912</td>\n",
       "      <td>29</td>\n",
       "    </tr>\n",
       "    <tr>\n",
       "      <th>ARG</th>\n",
       "      <td>1924</td>\n",
       "      <td>2008</td>\n",
       "      <td>239</td>\n",
       "    </tr>\n",
       "    <tr>\n",
       "      <th>...</th>\n",
       "      <td>...</td>\n",
       "      <td>...</td>\n",
       "      <td>...</td>\n",
       "    </tr>\n",
       "    <tr>\n",
       "      <th>VIE</th>\n",
       "      <td>2000</td>\n",
       "      <td>2008</td>\n",
       "      <td>2</td>\n",
       "    </tr>\n",
       "    <tr>\n",
       "      <th>YUG</th>\n",
       "      <td>1924</td>\n",
       "      <td>2000</td>\n",
       "      <td>435</td>\n",
       "    </tr>\n",
       "    <tr>\n",
       "      <th>ZAM</th>\n",
       "      <td>1984</td>\n",
       "      <td>1996</td>\n",
       "      <td>2</td>\n",
       "    </tr>\n",
       "    <tr>\n",
       "      <th>ZIM</th>\n",
       "      <td>1980</td>\n",
       "      <td>2008</td>\n",
       "      <td>23</td>\n",
       "    </tr>\n",
       "    <tr>\n",
       "      <th>ZZX</th>\n",
       "      <td>1896</td>\n",
       "      <td>1904</td>\n",
       "      <td>48</td>\n",
       "    </tr>\n",
       "  </tbody>\n",
       "</table>\n",
       "<p>138 rows × 3 columns</p>\n",
       "</div>"
      ],
      "text/plain": [
       "      min   max  count\n",
       "NOC                   \n",
       "AFG  2008  2008      1\n",
       "AHO  1988  1988      1\n",
       "ALG  1984  2008     14\n",
       "ANZ  1908  1912     29\n",
       "ARG  1924  2008    239\n",
       "..    ...   ...    ...\n",
       "VIE  2000  2008      2\n",
       "YUG  1924  2000    435\n",
       "ZAM  1984  1996      2\n",
       "ZIM  1980  2008     23\n",
       "ZZX  1896  1904     48\n",
       "\n",
       "[138 rows x 3 columns]"
      ]
     },
     "execution_count": 99,
     "metadata": {},
     "output_type": "execute_result"
    }
   ],
   "source": [
    "odata.groupby(\"NOC\")['Edition'].agg(['min','max','count'])"
   ]
  },
  {
   "cell_type": "code",
   "execution_count": null,
   "id": "6d60ca03",
   "metadata": {},
   "outputs": [],
   "source": []
  },
  {
   "cell_type": "code",
   "execution_count": null,
   "id": "2b8f0f52",
   "metadata": {},
   "outputs": [],
   "source": []
  },
  {
   "cell_type": "code",
   "execution_count": null,
   "id": "c6ed2eeb",
   "metadata": {},
   "outputs": [],
   "source": []
  },
  {
   "cell_type": "code",
   "execution_count": null,
   "id": "b7ff4b7c",
   "metadata": {},
   "outputs": [],
   "source": []
  },
  {
   "cell_type": "code",
   "execution_count": null,
   "id": "b4ee8363",
   "metadata": {},
   "outputs": [],
   "source": []
  },
  {
   "cell_type": "code",
   "execution_count": null,
   "id": "64d3d2b6",
   "metadata": {},
   "outputs": [],
   "source": []
  }
 ],
 "metadata": {
  "kernelspec": {
   "display_name": "Python 3 (ipykernel)",
   "language": "python",
   "name": "python3"
  },
  "language_info": {
   "codemirror_mode": {
    "name": "ipython",
    "version": 3
   },
   "file_extension": ".py",
   "mimetype": "text/x-python",
   "name": "python",
   "nbconvert_exporter": "python",
   "pygments_lexer": "ipython3",
   "version": "3.9.12"
  }
 },
 "nbformat": 4,
 "nbformat_minor": 5
}
